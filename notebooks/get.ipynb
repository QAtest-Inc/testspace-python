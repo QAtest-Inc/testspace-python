{
 "metadata": {
  "language_info": {
   "codemirror_mode": {
    "name": "ipython",
    "version": 3
   },
   "file_extension": ".py",
   "mimetype": "text/x-python",
   "name": "python",
   "nbconvert_exporter": "python",
   "pygments_lexer": "ipython3",
   "version": "3.7.3"
  },
  "orig_nbformat": 4,
  "kernelspec": {
   "name": "python3",
   "display_name": "Python 3.7.3 64-bit ('env': venv)"
  },
  "interpreter": {
   "hash": "e1235c3dc92fd762cd2624207dfeade784a606c72862930fb5ec6131df0047a0"
  }
 },
 "nbformat": 4,
 "nbformat_minor": 2,
 "cells": [
  {
   "cell_type": "code",
   "execution_count": null,
   "metadata": {},
   "outputs": [],
   "source": [
    "import os\n",
    "import json\n",
    "import sys; sys.path.insert(0, '..')\n",
    "import xmltodict\n",
    "from testspace import testspace as api\n",
    "TS_TOKEN = os.environ.get('STRIDESPACE_TOKEN')"
   ]
  },
  {
   "cell_type": "code",
   "execution_count": null,
   "metadata": {},
   "outputs": [],
   "source": [
    "URL=\"munderseth.stridespace.com\"\n",
    "PROJECT=\"munderseth:my.demo\"\n",
    "SPACE=\"master\""
   ]
  },
  {
   "cell_type": "code",
   "execution_count": null,
   "metadata": {},
   "outputs": [],
   "source": [
    "URL=\"munderseth.stridespace.com\"\n",
    "PROJECT=\"my.aggregation\"\n",
    "SPACE=\"main\""
   ]
  },
  {
   "cell_type": "code",
   "execution_count": null,
   "metadata": {},
   "outputs": [],
   "source": [
    "ts = api.Testspace(token=TS_TOKEN, url=URL, project=PROJECT, space=SPACE)"
   ]
  },
  {
   "cell_type": "code",
   "execution_count": null,
   "metadata": {},
   "outputs": [],
   "source": [
    "# Test only\n",
    "project = ts.get_project()\n",
    "spaces = ts.get_request_json(project['spaces_url'])"
   ]
  },
  {
   "cell_type": "code",
   "execution_count": null,
   "metadata": {},
   "outputs": [],
   "source": [
    "results = ts.get_results(limit=1)\n",
    "len(results)"
   ]
  },
  {
   "cell_type": "code",
   "execution_count": null,
   "metadata": {},
   "outputs": [],
   "source": [
    "results"
   ]
  },
  {
   "cell_type": "code",
   "execution_count": null,
   "metadata": {},
   "outputs": [],
   "source": [
    "result = ts.get_result(results[0]['id'])\n",
    "#result\n",
    "#results[0]['id']\n",
    "#results[0]['result_contents_url']"
   ]
  },
  {
   "cell_type": "code",
   "execution_count": null,
   "metadata": {},
   "outputs": [],
   "source": [
    "contentsDirect = ts.get_request_json(results[0]['result_contents_url'])"
   ]
  },
  {
   "cell_type": "code",
   "execution_count": null,
   "metadata": {},
   "outputs": [],
   "source": [
    "contents = ts.get_result_contents(results[0]['id'])"
   ]
  },
  {
   "cell_type": "code",
   "execution_count": null,
   "metadata": {},
   "outputs": [],
   "source": [
    "contents"
   ]
  },
  {
   "cell_type": "code",
   "execution_count": null,
   "metadata": {},
   "outputs": [],
   "source": [
    "contents[0]['suite_contents_url']"
   ]
  },
  {
   "cell_type": "code",
   "execution_count": null,
   "metadata": {},
   "outputs": [],
   "source": [
    "cases = ts.get_request_json(contents[0]['suite_contents_url'])"
   ]
  },
  {
   "cell_type": "code",
   "execution_count": null,
   "metadata": {},
   "outputs": [],
   "source": [
    "cases"
   ]
  },
  {
   "cell_type": "code",
   "execution_count": null,
   "metadata": {},
   "outputs": [],
   "source": [
    "case_list = []\n",
    "ts.get_result_cases(case_list, results[0]['id'])"
   ]
  },
  {
   "cell_type": "code",
   "execution_count": null,
   "metadata": {},
   "outputs": [],
   "source": [
    "case_list"
   ]
  },
  {
   "cell_type": "code",
   "execution_count": null,
   "metadata": {},
   "outputs": [],
   "source": [
    "############################################################################################"
   ]
  },
  {
   "cell_type": "code",
   "execution_count": null,
   "metadata": {},
   "outputs": [],
   "source": [
    "# Reference\n",
    "URL=\"munderseth.stridespace.com\"\n",
    "PROJECT=\"munderseth:hello.publish.manual\"\n",
    "SPACE=\"main\"\n",
    "ts = api.Testspace(token=TS_TOKEN, url=URL, project=PROJECT, space=SPACE)\n",
    "results = ts.get_results(limit=1)\n",
    "len(results)\n",
    "root = ts.get_result_contents(results[0]['id'])\n",
    "print(\"Suite:{} xml_url:{} \".format(root[1]['name'], root[1]['download_url']))"
   ]
  },
  {
   "cell_type": "code",
   "execution_count": null,
   "metadata": {},
   "outputs": [],
   "source": [
    "# Reference \n",
    "S1           = root[1]['name']\n",
    "xml_url      = root[1]['download_url']\n",
    "CasesXML     = ts.get_request(xml_url)\n",
    "CasesParsed  = xmltodict.parse(CasesXML.content.decode(\"utf-8\"))\n",
    "CasesContent = CasesParsed['test_suite']['test_case']\n",
    "CasesContent\n",
    "#CasesContent[0]['@name']"
   ]
  },
  {
   "cell_type": "code",
   "execution_count": null,
   "metadata": {},
   "outputs": [],
   "source": [
    "CasesParsed"
   ]
  },
  {
   "cell_type": "code",
   "execution_count": null,
   "metadata": {},
   "outputs": [],
   "source": [
    "# Reference\n",
    "key_set = {'@name', '@status', '@duration'}\n",
    "for idx, c in enumerate(CasesContent):\n",
    "    if not c.keys() >= key_set :  print(\"ERROR: Suite({}) case[{}] bad\".format(\"name\", idx+1))\n",
    "    else: print(\"fields:{} name:{}({})\".format(len(c),c['@name'], idx+1))"
   ]
  },
  {
   "cell_type": "code",
   "execution_count": null,
   "metadata": {},
   "outputs": [],
   "source": [
    "url = 'F1/S1'\n",
    "print(url.replace('S1',''))"
   ]
  }
 ]
}