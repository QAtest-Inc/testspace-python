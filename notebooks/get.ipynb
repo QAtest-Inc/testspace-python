{
 "metadata": {
  "language_info": {
   "codemirror_mode": {
    "name": "ipython",
    "version": 3
   },
   "file_extension": ".py",
   "mimetype": "text/x-python",
   "name": "python",
   "nbconvert_exporter": "python",
   "pygments_lexer": "ipython3",
   "version": "3.7.3"
  },
  "orig_nbformat": 4,
  "kernelspec": {
   "name": "python3",
   "display_name": "Python 3.7.3 64-bit ('env': venv)"
  },
  "interpreter": {
   "hash": "e1235c3dc92fd762cd2624207dfeade784a606c72862930fb5ec6131df0047a0"
  }
 },
 "nbformat": 4,
 "nbformat_minor": 2,
 "cells": [
  {
   "cell_type": "code",
   "execution_count": 1,
   "metadata": {},
   "outputs": [],
   "source": [
    "import os\n",
    "import json\n",
    "import sys; sys.path.insert(0, '..')\n",
    "import xmltodict\n",
    "from testspace import testspace as api\n",
    "TS_TOKEN = os.environ.get('STRIDESPACE_TOKEN')"
   ]
  },
  {
   "cell_type": "code",
   "execution_count": 2,
   "metadata": {},
   "outputs": [],
   "source": [
    "URL=\"munderseth.stridespace.com\"\n",
    "PROJECT=\"munderseth:my.demo\"\n",
    "SPACE=\"master\""
   ]
  },
  {
   "cell_type": "code",
   "execution_count": null,
   "metadata": {},
   "outputs": [],
   "source": [
    "URL=\"munderseth.stridespace.com\"\n",
    "PROJECT=\"my.aggregation\"\n",
    "SPACE=\"main\""
   ]
  },
  {
   "cell_type": "code",
   "execution_count": 3,
   "metadata": {},
   "outputs": [],
   "source": [
    "ts = api.Testspace(token=TS_TOKEN, url=URL, project=PROJECT, space=SPACE)"
   ]
  },
  {
   "cell_type": "code",
   "execution_count": null,
   "metadata": {},
   "outputs": [],
   "source": [
    "# Test only\n",
    "project = ts.get_project()\n",
    "spaces = ts.get_request_json(project['spaces_url'])"
   ]
  },
  {
   "cell_type": "code",
   "execution_count": 4,
   "metadata": {},
   "outputs": [
    {
     "output_type": "execute_result",
     "data": {
      "text/plain": [
       "1"
      ]
     },
     "metadata": {},
     "execution_count": 4
    }
   ],
   "source": [
    "results = ts.get_results(limit=1)\n",
    "len(results)"
   ]
  },
  {
   "cell_type": "code",
   "execution_count": null,
   "metadata": {},
   "outputs": [],
   "source": [
    "results"
   ]
  },
  {
   "cell_type": "code",
   "execution_count": null,
   "metadata": {},
   "outputs": [],
   "source": [
    "result = ts.get_result(results[0]['id'])"
   ]
  },
  {
   "cell_type": "code",
   "execution_count": null,
   "metadata": {},
   "outputs": [],
   "source": [
    "result"
   ]
  },
  {
   "cell_type": "code",
   "execution_count": null,
   "metadata": {},
   "outputs": [],
   "source": [
    "results[0]['id']"
   ]
  },
  {
   "cell_type": "code",
   "execution_count": null,
   "metadata": {},
   "outputs": [],
   "source": [
    "results[0]['result_contents_url']"
   ]
  },
  {
   "cell_type": "code",
   "execution_count": null,
   "metadata": {},
   "outputs": [],
   "source": [
    "contentsDirect = ts.get_request_json(results[0]['result_contents_url'])"
   ]
  },
  {
   "cell_type": "code",
   "execution_count": null,
   "metadata": {},
   "outputs": [],
   "source": [
    "contentsDirect"
   ]
  },
  {
   "cell_type": "code",
   "execution_count": null,
   "metadata": {},
   "outputs": [],
   "source": [
    "contents = ts.get_result_contents(results[0]['id'])"
   ]
  },
  {
   "cell_type": "code",
   "execution_count": null,
   "metadata": {},
   "outputs": [],
   "source": [
    "contents"
   ]
  },
  {
   "cell_type": "code",
   "execution_count": null,
   "metadata": {},
   "outputs": [],
   "source": [
    "contents[0]['suite_contents_url']"
   ]
  },
  {
   "cell_type": "code",
   "execution_count": null,
   "metadata": {},
   "outputs": [],
   "source": [
    "cases = ts.get_request_json(contents[0]['suite_contents_url'])"
   ]
  },
  {
   "cell_type": "code",
   "execution_count": null,
   "metadata": {},
   "outputs": [],
   "source": [
    "cases"
   ]
  },
  {
   "cell_type": "code",
   "execution_count": 5,
   "metadata": {},
   "outputs": [
    {
     "output_type": "stream",
     "name": "stdout",
     "text": [
      "Folder: S1\n",
      "  Suite: S1 \n",
      "    cases(2)\n",
      "Folder: S2\n",
      "  Suite: S2 \n",
      "    cases(2)\n",
      "Folder: S3\n",
      "  Suite: S3 \n",
      "    cases(2)\n",
      "Folder: S4\n",
      "  Suite: S4 \n",
      "    cases(2)\n",
      "Folder: Folder1/S1\n",
      "  Suite: S1 \n",
      "    cases(2)\n",
      "Folder: Folder1/S2\n",
      "  Suite: S2 \n",
      "    cases(2)\n",
      "Folder: Folder1/S3\n",
      "  Suite: S3 \n",
      "    cases(2)\n",
      "Folder: Folder1/S4\n",
      "  Suite: S4 \n",
      "    cases(2)\n",
      "Folder: Folder2/S1\n",
      "  Suite: S1 \n",
      "    cases(2)\n",
      "Folder: Folder2/S2\n",
      "  Suite: S2 \n",
      "    cases(2)\n",
      "Folder: Folder2/S3\n",
      "  Suite: S3 \n",
      "    cases(2)\n",
      "Folder: Folder2/S4\n",
      "  Suite: S4 \n",
      "    cases(2)\n"
     ]
    }
   ],
   "source": [
    "details = []\n",
    "ts.get_result_contents_details(details, results[0]['id'])"
   ]
  },
  {
   "cell_type": "code",
   "execution_count": null,
   "metadata": {},
   "outputs": [],
   "source": [
    "details"
   ]
  },
  {
   "cell_type": "code",
   "execution_count": null,
   "metadata": {},
   "outputs": [],
   "source": [
    "############################################################################################"
   ]
  },
  {
   "cell_type": "code",
   "execution_count": null,
   "metadata": {},
   "outputs": [],
   "source": [
    "def get_result_folder(Suites, id, path=None):\n",
    "    global TotalCases, TotalSuites, TotalErrors\n",
    "    #if TotalSuites > 9: return;\n",
    "    folder = ts.get_result_contents(id,path)\n",
    "    for item in folder:\n",
    "        if (item[\"type\"] == \"suite\" or item[\"type\"] == \"suite (manual)\") and item[\"cases_url\"] != None:\n",
    "            suite = {}\n",
    "            Cases = []\n",
    "            suite[\"id\"]   = item[\"path\"]\n",
    "            suite[\"name\"] = item[\"name\"]\n",
    "            TotalSuites += 1\n",
    "            print(\"Suite({}): {} \".format(TotalSuites, item[\"name\"] ))\n",
    "            cases = ts.get_request_json(item['cases_url'])\n",
    "            print(\"  cases({})\".format(len(cases)))\n",
    "            TotalCases += len(cases)\n",
    "            suite[\"cases\"]  = cases\n",
    "            Suites.append(suite)    \n",
    "        elif item[\"type\"] == \"folder\": get_result_folder(Suites, id, item[\"path\"] ) \n",
    "\n",
    "    return"
   ]
  },
  {
   "cell_type": "code",
   "execution_count": null,
   "metadata": {},
   "outputs": [],
   "source": [
    "TotalSuites = 0\n",
    "TotalCases = 0\n",
    "Suites = []\n",
    "get_result_folder(Suites, results[0]['id'])\n",
    "print(\"Total Suites: {} Cases:{}\".format(TotalSuites, TotalCases))"
   ]
  },
  {
   "cell_type": "code",
   "execution_count": null,
   "metadata": {},
   "outputs": [],
   "source": [
    "def get_result_contents_details(details, result, contents_path=None, project=None, space=None):\n",
    "    folder = ts.get_result_contents(result, contents_path, limit=None)\n",
    "    for item in folder:\n",
    "        if (item[\"type\"] == \"suite\" or item[\"type\"] == \"suite (manual)\") and item[\"cases_url\"] != None:\n",
    "            suite = {}\n",
    "            #Cases = []\n",
    "            suite[\"id\"]   = item[\"path\"]\n",
    "            suite[\"name\"] = item[\"name\"]\n",
    "            cases = ts.get_request_json(item['cases_url'])\n",
    "            suite[\"cases\"]  = cases\n",
    "            # Logging\n",
    "            #print(\"Folder: {}\".format(item[\"path\"]))\n",
    "            print(\"  Suite: {} \".format(item[\"name\"] ))\n",
    "            print(\"    cases({})\".format(len(cases)))\n",
    "            # details is an \"mutable list\"; being populated while traversing the hierarchy       \n",
    "            details.append(suite)    \n",
    "        elif item[\"type\"] == \"folder\": get_result_contents_details(details, result, item[\"path\"]) \n",
    "\n",
    "    return\n"
   ]
  },
  {
   "cell_type": "code",
   "execution_count": null,
   "metadata": {
    "tags": []
   },
   "outputs": [],
   "source": [
    "TotalSuites = 0\n",
    "TotalCases = 0\n",
    "details = []\n",
    "get_result_contents_details(details, results[0]['id'])\n",
    "#print(\"Total Suites: {} Cases:{}\".format(TotalSuites, TotalCases))"
   ]
  },
  {
   "cell_type": "code",
   "execution_count": null,
   "metadata": {},
   "outputs": [],
   "source": [
    "Suites"
   ]
  },
  {
   "cell_type": "code",
   "execution_count": null,
   "metadata": {},
   "outputs": [],
   "source": [
    "#SuiteList[0]['cases']['test_suite']['test_case']#[0]['@name']\n",
    "SuiteList[0]['cases'][0]#['@name']\n",
    "#new_dict['test_suite']['test_case'][0]['@name']"
   ]
  },
  {
   "cell_type": "code",
   "execution_count": null,
   "metadata": {},
   "outputs": [],
   "source": [
    "f1 = contents[1]['failures']\n",
    "f2 = ts.get_result_failures(results[0]['id'])"
   ]
  },
  {
   "cell_type": "code",
   "execution_count": null,
   "metadata": {},
   "outputs": [],
   "source": [
    "for suites in contents:\n",
    "    if suites[\"download_url\"] != None:\n",
    "        print(suites[\"name\"], \"cases(\",sum(suites[\"case_counts\"]),\")\")\n",
    "        snippet = ts.get_request(suites[\"download_url\"])"
   ]
  },
  {
   "cell_type": "code",
   "execution_count": null,
   "metadata": {},
   "outputs": [],
   "source": [
    "content = snippet.content.decode(\"utf-8\")"
   ]
  },
  {
   "cell_type": "code",
   "execution_count": null,
   "metadata": {},
   "outputs": [],
   "source": [
    "content"
   ]
  },
  {
   "cell_type": "code",
   "execution_count": null,
   "metadata": {},
   "outputs": [],
   "source": [
    "print(json.dumps(data_dict))"
   ]
  },
  {
   "cell_type": "code",
   "execution_count": null,
   "metadata": {},
   "outputs": [],
   "source": [
    "json_data = json.dumps(data_dict, sort_keys=True, indent=4)"
   ]
  },
  {
   "cell_type": "code",
   "execution_count": null,
   "metadata": {},
   "outputs": [],
   "source": [
    "with open(\"get.json\", \"w\") as json_file:\n",
    "    json_file.write(json_data)"
   ]
  },
  {
   "cell_type": "code",
   "execution_count": null,
   "metadata": {},
   "outputs": [],
   "source": [
    "new_dict = json.loads(json_data)"
   ]
  },
  {
   "cell_type": "code",
   "execution_count": null,
   "metadata": {},
   "outputs": [],
   "source": [
    "#new_dict['test_suite']['test_case'][0]\n",
    "new_dict['test_suite']['test_case'][0]['@name']"
   ]
  },
  {
   "cell_type": "code",
   "execution_count": null,
   "metadata": {},
   "outputs": [],
   "source": [
    "data_dict['test_suite']['test_case'][0]['@name']"
   ]
  },
  {
   "cell_type": "code",
   "execution_count": null,
   "metadata": {},
   "outputs": [],
   "source": [
    "data_dict['test_suite']['test_case'][1]['@name']"
   ]
  },
  {
   "cell_type": "code",
   "execution_count": null,
   "metadata": {},
   "outputs": [],
   "source": [
    "for name in data_dict['test_suite']['test_case']:\n",
    "    print(name['@name'])"
   ]
  },
  {
   "cell_type": "code",
   "execution_count": null,
   "metadata": {},
   "outputs": [],
   "source": [
    "# Reference\n",
    "URL=\"munderseth.stridespace.com\"\n",
    "PROJECT=\"munderseth:hello.publish.manual\"\n",
    "SPACE=\"main\"\n",
    "ts = api.Testspace(token=TS_TOKEN, url=URL, project=PROJECT, space=SPACE)\n",
    "results = ts.get_results(limit=1)\n",
    "len(results)\n",
    "root = ts.get_result_contents(results[0]['id'])\n",
    "print(\"Suite:{} xml_url:{} \".format(root[1]['name'], root[1]['download_url']))"
   ]
  },
  {
   "cell_type": "code",
   "execution_count": null,
   "metadata": {},
   "outputs": [],
   "source": [
    "# Reference \n",
    "S1           = root[1]['name']\n",
    "xml_url      = root[1]['download_url']\n",
    "CasesXML     = ts.get_request(xml_url)\n",
    "CasesParsed  = xmltodict.parse(CasesXML.content.decode(\"utf-8\"))\n",
    "CasesContent = CasesParsed['test_suite']['test_case']\n",
    "CasesContent\n",
    "#CasesContent[0]['@name']"
   ]
  },
  {
   "cell_type": "code",
   "execution_count": null,
   "metadata": {},
   "outputs": [],
   "source": [
    "CasesParsed"
   ]
  },
  {
   "cell_type": "code",
   "execution_count": null,
   "metadata": {},
   "outputs": [],
   "source": [
    "# Reference\n",
    "key_set = {'@name', '@status', '@duration'}\n",
    "for idx, c in enumerate(CasesContent):\n",
    "    if not c.keys() >= key_set :  print(\"ERROR: Suite({}) case[{}] bad\".format(\"name\", idx+1))\n",
    "    else: print(\"fields:{} name:{}({})\".format(len(c),c['@name'], idx+1))"
   ]
  }
 ]
}